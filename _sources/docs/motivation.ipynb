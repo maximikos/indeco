{
 "cells": [
  {
   "cell_type": "markdown",
   "id": "56964e3b",
   "metadata": {},
   "source": [
    "(getting_started)=\n",
    "\n",
    "\n",
    "# Motivation\n",
    "\n",
    "## Overview\n",
    "\n",
    "Some text\n",
    "\n",
    "1.  ...\n",
    "2.  ...\n",
    "3.  ...\n",
    "4.  ..."
   ]
  }
 ],
 "metadata": {
  "jupytext": {
   "text_representation": {
    "extension": ".md",
    "format_name": "myst"
   }
  },
  "kernelspec": {
   "display_name": "Python 3",
   "language": "python",
   "name": "python3"
  },
  "source_map": [
   10
  ]
 },
 "nbformat": 4,
 "nbformat_minor": 5
}