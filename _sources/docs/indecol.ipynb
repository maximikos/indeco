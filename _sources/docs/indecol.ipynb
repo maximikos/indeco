{
 "cells": [
  {
   "cell_type": "markdown",
   "id": "cbc6a376",
   "metadata": {},
   "source": [
    "(getting_started)=\n",
    "\n",
    "\n",
    "# Industrial Ecology\n",
    "\n",
    "## Overview\n",
    "\n",
    "An overview of indecol and similar methods. Very brief. Links to detailed sections under \"research methods\". Mention a few applied examples.\n",
    "\n",
    "1.  ...\n",
    "2.  ...\n",
    "3.  ...\n",
    "4.  ..."
   ]
  }
 ],
 "metadata": {
  "jupytext": {
   "text_representation": {
    "extension": ".md",
    "format_name": "myst"
   }
  },
  "kernelspec": {
   "display_name": "Python 3",
   "language": "python",
   "name": "python3"
  },
  "source_map": [
   10
  ]
 },
 "nbformat": 4,
 "nbformat_minor": 5
}