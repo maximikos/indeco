{
 "cells": [
  {
   "cell_type": "markdown",
   "id": "403e1568",
   "metadata": {},
   "source": [
    "(getting_started)=\n",
    "\n",
    "\n",
    "# Introduction\n",
    "\n",
    "## Overview\n",
    "\n",
    "Some text\n",
    "\n",
    "1.  ...\n",
    "2.  ...\n",
    "3.  ...\n",
    "4.  ...\n",
    "\n",
    "<script src=\"https://giscus.app/client.js\"\n",
    "        data-repo=\"maximikos/indeco\"\n",
    "        data-repo-id=\"MDEwOlJlcG9zaXRvcnk0MDgwNzg3MTI=\"\n",
    "        data-category=\"Giscus\"\n",
    "        data-category-id=\"DIC_kwDOGFLJeM4CamBq\"\n",
    "        data-mapping=\"pathname\"\n",
    "        data-strict=\"0\"\n",
    "        data-reactions-enabled=\"1\"\n",
    "        data-emit-metadata=\"0\"\n",
    "        data-input-position=\"top\"\n",
    "        data-theme=\"light\"\n",
    "        data-lang=\"en\"\n",
    "        data-loading=\"lazy\"\n",
    "        crossorigin=\"anonymous\"\n",
    "        async>\n",
    "</script>"
   ]
  }
 ],
 "metadata": {
  "jupytext": {
   "text_representation": {
    "extension": ".md",
    "format_name": "myst"
   }
  },
  "kernelspec": {
   "display_name": "Python 3",
   "language": "python",
   "name": "python3"
  },
  "source_map": [
   10
  ]
 },
 "nbformat": 4,
 "nbformat_minor": 5
}