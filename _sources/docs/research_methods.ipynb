{
 "cells": [
  {
   "cell_type": "markdown",
   "id": "0a26058d",
   "metadata": {},
   "source": [
    "(getting_started)=\n",
    "\n",
    "\n",
    "# Research methods\n",
    "\n",
    "## Overview\n",
    "\n",
    "In this lecture, you will learn about\n",
    "\n",
    "1. lifecycle assessment\n",
    "2. material flow analysis\n",
    "3. input-output analysis\n",
    "4. integrated assessment modelling"
   ]
  }
 ],
 "metadata": {
  "jupytext": {
   "text_representation": {
    "extension": ".md",
    "format_name": "myst"
   }
  },
  "kernelspec": {
   "display_name": "Python 3",
   "language": "python",
   "name": "python3"
  },
  "language_info": {
   "codemirror_mode": {
    "name": "ipython",
    "version": 3
   },
   "file_extension": ".py",
   "mimetype": "text/x-python",
   "name": "python",
   "nbconvert_exporter": "python",
   "pygments_lexer": "ipython3",
   "version": "3.9.7"
  },
  "source_map": [
   10
  ]
 },
 "nbformat": 4,
 "nbformat_minor": 5
}