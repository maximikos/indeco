{
 "cells": [
  {
   "cell_type": "markdown",
   "id": "20e3ac1a",
   "metadata": {},
   "source": [
    "(getting_started)=\n",
    "\n",
    "\n",
    "# Research methods\n",
    "\n",
    "## Overview\n",
    "\n",
    "In this lecture, you will learn about\n",
    "\n",
    "1. lifecycle assessment\n",
    "2. material flow analysis\n",
    "3. input-output analysis\n",
    "4. integrated assessment modelling"
   ]
  }
 ],
 "metadata": {
  "jupytext": {
   "text_representation": {
    "extension": ".md",
    "format_name": "myst"
   }
  },
  "kernelspec": {
   "display_name": "Python 3",
   "language": "python",
   "name": "python3"
  },
  "source_map": [
   10
  ]
 },
 "nbformat": 4,
 "nbformat_minor": 5
}