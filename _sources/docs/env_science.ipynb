{
 "cells": [
  {
   "cell_type": "markdown",
   "id": "7d5cbfec",
   "metadata": {},
   "source": [
    "(getting_started)=\n",
    "\n",
    "\n",
    "# Environmental science\n",
    "\n",
    "## Overview\n",
    "\n",
    "An overview of traditional environmental science\n",
    "\n",
    "1.  ...\n",
    "2.  ...\n",
    "3.  ...\n",
    "4.  ...\n",
    "\n",
    "Prepare for switching to the \"attribution part\" aka industrial ecology"
   ]
  }
 ],
 "metadata": {
  "jupytext": {
   "text_representation": {
    "extension": ".md",
    "format_name": "myst"
   }
  },
  "kernelspec": {
   "display_name": "Python 3",
   "language": "python",
   "name": "python3"
  },
  "source_map": [
   10
  ]
 },
 "nbformat": 4,
 "nbformat_minor": 5
}