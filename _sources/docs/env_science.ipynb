{
 "cells": [
  {
   "cell_type": "markdown",
   "id": "11386d06",
   "metadata": {},
   "source": [
    "(getting_started)=\n",
    "\n",
    "\n",
    "# Environmental science\n",
    "\n",
    "## Overview\n",
    "\n",
    "An overview of traditional environmental science\n",
    "\n",
    "1.  ...\n",
    "2.  ...\n",
    "3.  ...\n",
    "4.  ...\n",
    "\n",
    "Prepare for switching to the \"attribution part\" aka industrial ecology"
   ]
  }
 ],
 "metadata": {
  "jupytext": {
   "text_representation": {
    "extension": ".md",
    "format_name": "myst"
   }
  },
  "kernelspec": {
   "display_name": "Python 3",
   "language": "python",
   "name": "python3"
  },
  "language_info": {
   "codemirror_mode": {
    "name": "ipython",
    "version": 3
   },
   "file_extension": ".py",
   "mimetype": "text/x-python",
   "name": "python",
   "nbconvert_exporter": "python",
   "pygments_lexer": "ipython3",
   "version": "3.9.7"
  },
  "source_map": [
   10
  ]
 },
 "nbformat": 4,
 "nbformat_minor": 5
}