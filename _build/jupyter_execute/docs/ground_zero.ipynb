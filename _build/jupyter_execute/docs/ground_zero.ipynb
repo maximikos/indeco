{
 "cells": [
  {
   "cell_type": "markdown",
   "id": "c280e1a7",
   "metadata": {},
   "source": [
    "(getting_started)=\n",
    "\n",
    "\n",
    "# Introduction\n",
    "\n",
    "## Overview\n",
    "\n",
    "Some text\n",
    "\n",
    "1.  ...\n",
    "2.  ...\n",
    "3.  ...\n",
    "4.  ..."
   ]
  }
 ],
 "metadata": {
  "jupytext": {
   "text_representation": {
    "extension": ".md",
    "format_name": "myst"
   }
  },
  "kernelspec": {
   "display_name": "Python 3",
   "language": "python",
   "name": "python3"
  },
  "language_info": {
   "codemirror_mode": {
    "name": "ipython",
    "version": 3
   },
   "file_extension": ".py",
   "mimetype": "text/x-python",
   "name": "python",
   "nbconvert_exporter": "python",
   "pygments_lexer": "ipython3",
   "version": "3.9.7"
  },
  "source_map": [
   10
  ]
 },
 "nbformat": 4,
 "nbformat_minor": 5
}