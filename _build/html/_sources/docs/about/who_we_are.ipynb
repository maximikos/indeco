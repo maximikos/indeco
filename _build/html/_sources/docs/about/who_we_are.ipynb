{
 "cells": [
  {
   "cell_type": "markdown",
   "id": "0924efc9",
   "metadata": {},
   "source": [
    "<h1>{{ .layout.title }}</h1>\n",
    "\n",
    "<h1>{{ .Layout.title }}</h1>\n",
    "\n",
    "<h1>{{ layout.title }}</h1>\n",
    "\n",
    "<h1>{{ Layout.title }}</h1>\n",
    "\n",
    "<h1>{{ content.title }}</h1>\n",
    "\n",
    "<h1>{{ Content.title }}</h1>\n",
    "\n",
    "{{ title }}\n",
    "\n",
    "{ title }\n",
    "\n",
    "# Who we are\n",
    "\n",
    "hello {{ $.Page.title }}\n",
    "\n",
    "hello {{ $.Page.Param.title }}\n",
    "\n",
    "# hello {{ $frontmatter.title }}\n",
    "\n",
    "# {{ frontmatter.title }}\n",
    "\n",
    "{ frontmatter.title }\n",
    "{frontmatter.title}\n",
    "\n",
    "> *Last edited by* <a href=”https://github.com/maximikos“><img src=\"https://github.com/maximikos.png\" alt=\"GitHub user\" title=\"Max Koslowski\" width=\"40\" style=\"border-radius: 50%\" /></a> *on* <i><a id=\"current_date\"></a></i>\n",
    "\n",
    "# {{ about.title }}\n",
    "\n",
    "# {% $frontmatter.title %}\n",
    "\n",
    "The world is complex. And here we want to show you how we can account for this complexity and the associated environmental and socio-economic repercussions. Methods such as life cycle assessment and material flow analysis are introduced and applied in many small examples. In addition, actual research insights are provided which are broken down into simple language - as much as this is possible.\n",
    "\n",
    "The idea for providing such an overview has been developed and was refined by [Max Koslowski](https://www.ntnu.edu/employees/maximilian.koslowski), a doctoral researcher at NTNU's [Industrial Ecology programme](https://www.ntnu.edu/indecol/).\n",
    "\n",
    "This website is now about to be updated as part of the ISIE website project.\n",
    "\n",
    "# {{ params.title }}\n",
    "\n",
    "````{tab-set}\n",
    "```{tab-item} LCA\n",
    "Some brief description of LCA\n",
    "```\n",
    "\n",
    "```{tab-item} MFA\n",
    "Some brief description of MFA with `some code`!\n",
    "```\n",
    "````\n",
    "\n",
    "# {{ .title }}\n",
    "\n",
    "# {{ $.title }}\n",
    "\n",
    "% This HTML activates utterances only on this page\n",
    "```{raw} html\n",
    "<script\n",
    "   type=\"text/javascript\"\n",
    "   src=\"https://utteranc.es/client.js\"\n",
    "   async=\"async\"\n",
    "   repo=\"maximikos/indeco\"\n",
    "   issue-term=\"pathname\"\n",
    "   theme=\"github-light\"\n",
    "   label=\"💬 comment\"\n",
    "   crossorigin=\"anonymous\"\n",
    "/>\n",
    "```"
   ]
  }
 ],
 "metadata": {
  "authors": [
   {
    "github": "maximikos",
    "name": "Maximilian Koslowski",
    "roles": [
     "writing",
     "editing, review",
     "validation"
    ]
   }
  ],
  "date": "30 October 2023",
  "date-modified": "last-modified",
  "jupytext": {
   "formats": "md:myst",
   "text_representation": {
    "extension": ".md",
    "format_name": "myst"
   }
  },
  "kernelspec": {
   "display_name": "Python 3",
   "language": "python",
   "name": "python3"
  },
  "layout": "about",
  "source_map": [
   22
  ],
  "title": "Who we are?"
 },
 "nbformat": 4,
 "nbformat_minor": 5
}