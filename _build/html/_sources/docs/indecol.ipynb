{
 "cells": [
  {
   "cell_type": "markdown",
   "id": "c03a3cd5",
   "metadata": {},
   "source": [
    "(getting_started)=\n",
    "\n",
    "\n",
    "# Industrial Ecology\n",
    "\n",
    "## Overview\n",
    "\n",
    "An overview of indecol and similar methods. Very brief. Links to detailed sections under \"research methods\". Mention a few applied examples.\n",
    "\n",
    "1.  ...\n",
    "2.  ...\n",
    "3.  ...\n",
    "4.  ...\n",
    "\n",
    "## Embedded [mentimeter](https://www.mentimeter.com)\n",
    "\n",
    "<div style='position: relative; padding-bottom: 56.25%; padding-top: 35px; height: 0; overflow: hidden;'><iframe sandbox='allow-scripts allow-same-origin allow-presentation' allowfullscreen='true' allowtransparency='true' frameborder='0' height='315' src='https://www.mentimeter.com/app/presentation/alzy7sscypezh5d1313vmqykfr1vocvw/embed' style='position: absolute; top: 0; left: 0; width: 100%; height: 100%;' width='420'></iframe></div>\n",
    "\n",
    "## Embedded [sli.do](https://www.slido.com/)\n",
    "\n",
    "<iframe src=\"https://app.sli.do/event/eXherNe91nGxDsrWqkNgN5\" height=\"100%\" width=\"100%\" frameBorder=\"0\" style=\"min-height: 560px;\" title=\"Slido\"></iframe>"
   ]
  }
 ],
 "metadata": {
  "jupytext": {
   "text_representation": {
    "extension": ".md",
    "format_name": "myst"
   }
  },
  "kernelspec": {
   "display_name": "Python 3",
   "language": "python",
   "name": "python3"
  },
  "source_map": [
   10
  ]
 },
 "nbformat": 4,
 "nbformat_minor": 5
}